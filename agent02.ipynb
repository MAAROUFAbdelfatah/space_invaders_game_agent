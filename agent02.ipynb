{
 "cells": [
  {
   "cell_type": "markdown",
   "metadata": {},
   "source": [
    "Dependences to install"
   ]
  },
  {
   "cell_type": "code",
   "execution_count": 13,
   "metadata": {},
   "outputs": [
    {
     "name": "stdout",
     "output_type": "stream",
     "text": [
      "Note: you may need to restart the kernel to use updated packages.\n"
     ]
    },
    {
     "name": "stderr",
     "output_type": "stream",
     "text": [
      "ERROR: Could not find a version that satisfies the requirement tensorflow==2.3.1 (from versions: 2.5.0rc0, 2.5.0rc1, 2.5.0rc2, 2.5.0rc3, 2.5.0, 2.5.1, 2.5.2, 2.5.3, 2.6.0rc0, 2.6.0rc1, 2.6.0rc2, 2.6.0, 2.6.1, 2.6.2, 2.6.3, 2.7.0rc0, 2.7.0rc1, 2.7.0, 2.7.1, 2.8.0rc0, 2.8.0rc1, 2.8.0, 2.9.0rc0)\n",
      "ERROR: No matching distribution found for tensorflow==2.3.1\n"
     ]
    },
    {
     "name": "stdout",
     "output_type": "stream",
     "text": [
      "Collecting gym\n",
      "  Using cached gym-0.23.1-py3-none-any.whl\n",
      "Requirement already satisfied: numpy>=1.18.0 in c:\\python\\lib\\site-packages (from gym) (1.22.2)\n",
      "Requirement already satisfied: importlib-metadata>=4.10.0 in c:\\python\\lib\\site-packages (from gym) (4.11.3)\n",
      "Collecting gym-notices>=0.0.4\n",
      "  Using cached gym_notices-0.0.6-py3-none-any.whl (2.7 kB)\n",
      "Requirement already satisfied: cloudpickle>=1.2.0 in c:\\python\\lib\\site-packages (from gym) (2.0.0)\n",
      "Requirement already satisfied: zipp>=0.5 in c:\\python\\lib\\site-packages (from importlib-metadata>=4.10.0->gym) (3.8.0)\n",
      "Installing collected packages: gym-notices, gym\n",
      "Successfully installed gym-0.23.1 gym-notices-0.0.6\n",
      "Note: you may need to restart the kernel to use updated packages.\n",
      "Requirement already satisfied: keras-rl2 in c:\\python\\lib\\site-packages (1.0.5)Note: you may need to restart the kernel to use updated packages.\n",
      "Requirement already satisfied: tensorflow in c:\\python\\lib\\site-packages (from keras-rl2) (2.8.0)\n",
      "Requirement already satisfied: flatbuffers>=1.12 in c:\\python\\lib\\site-packages (from tensorflow->keras-rl2) (1.12)\n",
      "Requirement already satisfied: h5py>=2.9.0 in c:\\python\\lib\\site-packages (from tensorflow->keras-rl2) (3.1.0)\n",
      "Requirement already satisfied: numpy>=1.20 in c:\\python\\lib\\site-packages (from tensorflow->keras-rl2) (1.22.2)\n",
      "Requirement already satisfied: tensorflow-io-gcs-filesystem>=0.23.1 in c:\\python\\lib\\site-packages (from tensorflow->keras-rl2) (0.24.0)\n",
      "Requirement already satisfied: opt-einsum>=2.3.2 in c:\\python\\lib\\site-packages (from tensorflow->keras-rl2) (3.3.0)\n",
      "Requirement already satisfied: grpcio<2.0,>=1.24.3 in c:\\python\\lib\\site-packages (from tensorflow->keras-rl2) (1.34.1)\n",
      "Requirement already satisfied: tf-estimator-nightly==2.8.0.dev2021122109 in c:\\python\\lib\\site-packages (from tensorflow->keras-rl2) (2.8.0.dev2021122109)\n",
      "Requirement already satisfied: setuptools in c:\\python\\lib\\site-packages (from tensorflow->keras-rl2) (49.2.1)\n",
      "Requirement already satisfied: protobuf>=3.9.2 in c:\\python\\lib\\site-packages (from tensorflow->keras-rl2) (3.17.3)\n",
      "Requirement already satisfied: six>=1.12.0 in c:\\python\\lib\\site-packages (from tensorflow->keras-rl2) (1.15.0)\n",
      "Requirement already satisfied: astunparse>=1.6.0 in c:\\python\\lib\\site-packages (from tensorflow->keras-rl2) (1.6.3)\n",
      "Requirement already satisfied: tensorboard<2.9,>=2.8 in c:\\python\\lib\\site-packages (from tensorflow->keras-rl2) (2.8.0)\n",
      "Requirement already satisfied: keras<2.9,>=2.8.0rc0 in c:\\python\\lib\\site-packages (from tensorflow->keras-rl2) (2.8.0)\n",
      "Requirement already satisfied: google-pasta>=0.1.1 in c:\\python\\lib\\site-packages (from tensorflow->keras-rl2) (0.2.0)\n",
      "Requirement already satisfied: gast>=0.2.1 in c:\\python\\lib\\site-packages (from tensorflow->keras-rl2) (0.4.0)\n",
      "Requirement already satisfied: libclang>=9.0.1 in c:\\python\\lib\\site-packages (from tensorflow->keras-rl2) (13.0.0)\n",
      "Requirement already satisfied: termcolor>=1.1.0 in c:\\python\\lib\\site-packages (from tensorflow->keras-rl2) (1.1.0)\n",
      "Requirement already satisfied: typing-extensions>=3.6.6 in c:\\python\\lib\\site-packages (from tensorflow->keras-rl2) (3.7.4.3)\n",
      "Requirement already satisfied: wrapt>=1.11.0 in c:\\python\\lib\\site-packages (from tensorflow->keras-rl2) (1.12.1)\n",
      "Requirement already satisfied: absl-py>=0.4.0 in c:\\python\\lib\\site-packages (from tensorflow->keras-rl2) (0.12.0)\n",
      "Requirement already satisfied: keras-preprocessing>=1.1.1 in c:\\python\\lib\\site-packages (from tensorflow->keras-rl2) (1.1.2)\n",
      "Requirement already satisfied: wheel<1.0,>=0.23.0 in c:\\python\\lib\\site-packages (from astunparse>=1.6.0->tensorflow->keras-rl2) (0.36.2)\n",
      "Requirement already satisfied: tensorboard-data-server<0.7.0,>=0.6.0 in c:\\python\\lib\\site-packages (from tensorboard<2.9,>=2.8->tensorflow->keras-rl2) (0.6.1)\n",
      "Requirement already satisfied: requests<3,>=2.21.0 in c:\\python\\lib\\site-packages (from tensorboard<2.9,>=2.8->tensorflow->keras-rl2) (2.25.1)\n",
      "Requirement already satisfied: werkzeug>=0.11.15 in c:\\python\\lib\\site-packages (from tensorboard<2.9,>=2.8->tensorflow->keras-rl2) (2.0.1)\n",
      "Requirement already satisfied: google-auth-oauthlib<0.5,>=0.4.1 in c:\\python\\lib\\site-packages (from tensorboard<2.9,>=2.8->tensorflow->keras-rl2) (0.4.4)\n",
      "Requirement already satisfied: markdown>=2.6.8 in c:\\python\\lib\\site-packages (from tensorboard<2.9,>=2.8->tensorflow->keras-rl2) (3.3.4)\n",
      "Requirement already satisfied: tensorboard-plugin-wit>=1.6.0 in c:\\python\\lib\\site-packages (from tensorboard<2.9,>=2.8->tensorflow->keras-rl2) (1.8.0)\n",
      "Requirement already satisfied: google-auth<3,>=1.6.3 in c:\\python\\lib\\site-packages (from tensorboard<2.9,>=2.8->tensorflow->keras-rl2) (1.31.0)\n",
      "Requirement already satisfied: pyasn1-modules>=0.2.1 in c:\\python\\lib\\site-packages (from google-auth<3,>=1.6.3->tensorboard<2.9,>=2.8->tensorflow->keras-rl2) (0.2.8)\n",
      "Requirement already satisfied: rsa<5,>=3.1.4 in c:\\python\\lib\\site-packages (from google-auth<3,>=1.6.3->tensorboard<2.9,>=2.8->tensorflow->keras-rl2) (4.7.2)\n",
      "Requirement already satisfied: cachetools<5.0,>=2.0.0 in c:\\python\\lib\\site-packages (from google-auth<3,>=1.6.3->tensorboard<2.9,>=2.8->tensorflow->keras-rl2) (4.2.2)\n",
      "Requirement already satisfied: requests-oauthlib>=0.7.0 in c:\\python\\lib\\site-packages (from google-auth-oauthlib<0.5,>=0.4.1->tensorboard<2.9,>=2.8->tensorflow->keras-rl2) (1.3.0)\n",
      "Requirement already satisfied: chardet<5,>=3.0.2 in c:\\python\\lib\\site-packages (from requests<3,>=2.21.0->tensorboard<2.9,>=2.8->tensorflow->keras-rl2) (4.0.0)\n",
      "Requirement already satisfied: urllib3<1.27,>=1.21.1 in c:\\python\\lib\\site-packages (from requests<3,>=2.21.0->tensorboard<2.9,>=2.8->tensorflow->keras-rl2) (1.26.5)\n",
      "Requirement already satisfied: idna<3,>=2.5 in c:\\python\\lib\\site-packages (from requests<3,>=2.21.0->tensorboard<2.9,>=2.8->tensorflow->keras-rl2) (2.10)\n",
      "Requirement already satisfied: certifi>=2017.4.17 in c:\\python\\lib\\site-packages (from requests<3,>=2.21.0->tensorboard<2.9,>=2.8->tensorflow->keras-rl2) (2021.5.30)\n",
      "Requirement already satisfied: pyasn1<0.5.0,>=0.4.6 in c:\\python\\lib\\site-packages (from pyasn1-modules>=0.2.1->google-auth<3,>=1.6.3->tensorboard<2.9,>=2.8->tensorflow->keras-rl2) (0.4.8)\n",
      "Requirement already satisfied: oauthlib>=3.0.0 in c:\\python\\lib\\site-packages (from requests-oauthlib>=0.7.0->google-auth-oauthlib<0.5,>=0.4.1->tensorboard<2.9,>=2.8->tensorflow->keras-rl2) (3.1.1)\n",
      "\n",
      "Requirement already satisfied: gym[atari] in c:\\python\\lib\\site-packages (0.23.1)Note: you may need to restart the kernel to use updated packages.\n",
      "Requirement already satisfied: numpy>=1.18.0 in c:\\python\\lib\\site-packages (from gym[atari]) (1.22.2)\n",
      "Requirement already satisfied: cloudpickle>=1.2.0 in c:\\python\\lib\\site-packages (from gym[atari]) (2.0.0)\n",
      "Requirement already satisfied: gym-notices>=0.0.4 in c:\\python\\lib\\site-packages (from gym[atari]) (0.0.6)\n",
      "Requirement already satisfied: importlib-metadata>=4.10.0 in c:\\python\\lib\\site-packages (from gym[atari]) (4.11.3)\n",
      "Collecting ale-py~=0.7.4\n",
      "  Using cached ale_py-0.7.4-cp39-cp39-win_amd64.whl (904 kB)\n",
      "Requirement already satisfied: importlib-resources in c:\\python\\lib\\site-packages (from ale-py~=0.7.4->gym[atari]) (5.6.0)\n",
      "Requirement already satisfied: zipp>=0.5 in c:\\python\\lib\\site-packages (from importlib-metadata>=4.10.0->gym[atari]) (3.8.0)\n",
      "Installing collected packages: ale-py\n",
      "Successfully installed ale-py-0.7.4\n",
      "\n"
     ]
    }
   ],
   "source": [
    "%pip install tensorflow==2.3.1\n",
    "%pip install gym\n",
    "%pip install keras-rl2\n",
    "%pip install gym[atari]"
   ]
  },
  {
   "cell_type": "markdown",
   "metadata": {},
   "source": [
    "Environment : OpenAI Gym"
   ]
  },
  {
   "cell_type": "code",
   "execution_count": 1,
   "metadata": {},
   "outputs": [
    {
     "data": {
      "text/plain": [
       "'C:\\\\Users\\\\AbdelfataH\\\\anaconda3\\\\envs\\\\gym\\\\lib\\\\site-packages\\\\gym\\\\__init__.py'"
      ]
     },
     "execution_count": 1,
     "metadata": {},
     "output_type": "execute_result"
    }
   ],
   "source": [
    "import random\n",
    "import gym\n",
    "gym.__file__\n"
   ]
  },
  {
   "cell_type": "code",
   "execution_count": 2,
   "metadata": {},
   "outputs": [],
   "source": [
    "env = gym.make('SpaceInvaders-v0')\n",
    "height, width, channels = env.observation_space.shape\n",
    "actions = env.action_space.n"
   ]
  },
  {
   "cell_type": "code",
   "execution_count": 3,
   "metadata": {},
   "outputs": [
    {
     "data": {
      "text/plain": [
       "['NOOP', 'FIRE', 'RIGHT', 'LEFT', 'RIGHTFIRE', 'LEFTFIRE']"
      ]
     },
     "execution_count": 3,
     "metadata": {},
     "output_type": "execute_result"
    }
   ],
   "source": [
    "env.unwrapped.get_action_meanings()"
   ]
  },
  {
   "cell_type": "code",
   "execution_count": 6,
   "metadata": {},
   "outputs": [
    {
     "name": "stdout",
     "output_type": "stream",
     "text": [
      "Episode: 1 Scoure: 120.0\n",
      "Episode: 2 Scoure: 65.0\n",
      "Episode: 3 Scoure: 135.0\n",
      "Episode: 4 Scoure: 330.0\n",
      "Episode: 5 Scoure: 110.0\n"
     ]
    }
   ],
   "source": [
    "episodes = 5\n",
    "for episode in range(1, episodes + 1):\n",
    "    state = env.reset()\n",
    "    done = False\n",
    "    scoure = 0\n",
    "    while not done:\n",
    "        env.render()\n",
    "        action = random.choice([0, 1, 2, 3, 4, 5])\n",
    "        n_state, reward, done, info = env.step(action)\n",
    "        scoure += reward\n",
    "    print('Episode: {} Scoure: {}'.format(episode, scoure))\n",
    "env.close()"
   ]
  },
  {
   "cell_type": "markdown",
   "metadata": {},
   "source": [
    "Deep Learning Model : Keras"
   ]
  },
  {
   "cell_type": "code",
   "execution_count": 5,
   "metadata": {},
   "outputs": [],
   "source": [
    "import numpy as np\n",
    "from tensorflow.keras.models import Sequential\n",
    "from tensorflow.keras.layers import Dense, Flatten, Convolution2D\n",
    "from tensorflow.keras.optimizers import Adam"
   ]
  },
  {
   "cell_type": "code",
   "execution_count": 6,
   "metadata": {},
   "outputs": [],
   "source": [
    "def build_model(height, width, channels, actions):\n",
    "    model = Sequential()\n",
    "    model.add(Convolution2D(32, (8, 8), strides=(4, 4), activation='relu', input_shape=(3, height, width, channels)))\n",
    "    model.add(Convolution2D(64, (4, 4), strides=(2, 2), activation='relu'))\n",
    "    model.add(Convolution2D(64, (3, 3), activation='relu'))\n",
    "    model.add(Flatten())\n",
    "    model.add(Dense(512, activation='relu'))\n",
    "    model.add(Dense(256, activation='relu'))\n",
    "    model.add(Dense(actions, activation='linear'))\n",
    "    return model"
   ]
  },
  {
   "cell_type": "code",
   "execution_count": 7,
   "metadata": {},
   "outputs": [],
   "source": [
    "model = build_model(height, width, channels, actions)"
   ]
  },
  {
   "cell_type": "code",
   "execution_count": 8,
   "metadata": {},
   "outputs": [
    {
     "name": "stdout",
     "output_type": "stream",
     "text": [
      "Model: \"sequential\"\n",
      "_________________________________________________________________\n",
      "Layer (type)                 Output Shape              Param #   \n",
      "=================================================================\n",
      "conv2d (Conv2D)              (None, 3, 51, 39, 32)     6176      \n",
      "_________________________________________________________________\n",
      "conv2d_1 (Conv2D)            (None, 3, 24, 18, 64)     32832     \n",
      "_________________________________________________________________\n",
      "conv2d_2 (Conv2D)            (None, 3, 22, 16, 64)     36928     \n",
      "_________________________________________________________________\n",
      "flatten (Flatten)            (None, 67584)             0         \n",
      "_________________________________________________________________\n",
      "dense (Dense)                (None, 512)               34603520  \n",
      "_________________________________________________________________\n",
      "dense_1 (Dense)              (None, 256)               131328    \n",
      "_________________________________________________________________\n",
      "dense_2 (Dense)              (None, 6)                 1542      \n",
      "=================================================================\n",
      "Total params: 34,812,326\n",
      "Trainable params: 34,812,326\n",
      "Non-trainable params: 0\n",
      "_________________________________________________________________\n"
     ]
    }
   ],
   "source": [
    "model.summary()"
   ]
  },
  {
   "cell_type": "code",
   "execution_count": null,
   "metadata": {},
   "outputs": [],
   "source": [
    "del model"
   ]
  },
  {
   "cell_type": "markdown",
   "metadata": {},
   "source": [
    "Build Agent : Keras-RL"
   ]
  },
  {
   "cell_type": "code",
   "execution_count": 9,
   "metadata": {},
   "outputs": [],
   "source": [
    "from rl.agents import DQNAgent\n",
    "from rl.memory import SequentialMemory\n",
    "from rl.policy import LinearAnnealedPolicy, EpsGreedyQPolicy"
   ]
  },
  {
   "cell_type": "code",
   "execution_count": 11,
   "metadata": {},
   "outputs": [],
   "source": [
    "def build_agent(model, actions):\n",
    "    policy = LinearAnnealedPolicy(EpsGreedyQPolicy(), attr='eps', value_max=1., value_min=.1, value_test=.2, nb_steps=10000)\n",
    "    memory = SequentialMemory(limit = 1000, window_length = 3)\n",
    "    dqn = DQNAgent(model = model, memory = memory, policy = policy, \n",
    "                    enable_dueling_network=True, dueling_type='avg',\n",
    "                    nb_actions = actions, nb_steps_warmup = 1000)\n",
    "    return dqn"
   ]
  },
  {
   "cell_type": "code",
   "execution_count": 13,
   "metadata": {},
   "outputs": [
    {
     "name": "stdout",
     "output_type": "stream",
     "text": [
      "Training for 10000 steps ...\n"
     ]
    },
    {
     "name": "stderr",
     "output_type": "stream",
     "text": [
      "C:\\Users\\AbdelfataH\\anaconda3\\envs\\gym\\lib\\site-packages\\keras\\engine\\training.py:2470: UserWarning: `Model.state_updates` will be removed in a future version. This property should not be used in TensorFlow 2.0, as `updates` are applied automatically.\n",
      "  warnings.warn('`Model.state_updates` will be removed in a future version. '\n"
     ]
    },
    {
     "name": "stdout",
     "output_type": "stream",
     "text": [
      "  605/10000: episode: 1, duration: 50.927s, episode steps: 605, steps per second:  12, episode reward: 120.000, mean reward:  0.198 [ 0.000, 30.000], mean action: 2.374 [0.000, 5.000],  loss: --, mean_q: --, mean_eps: --\n"
     ]
    },
    {
     "name": "stderr",
     "output_type": "stream",
     "text": [
      "C:\\Users\\AbdelfataH\\anaconda3\\envs\\gym\\lib\\site-packages\\keras\\engine\\training.py:2470: UserWarning: `Model.state_updates` will be removed in a future version. This property should not be used in TensorFlow 2.0, as `updates` are applied automatically.\n",
      "  warnings.warn('`Model.state_updates` will be removed in a future version. '\n"
     ]
    },
    {
     "name": "stdout",
     "output_type": "stream",
     "text": [
      " 1671/10000: episode: 2, duration: 2127.889s, episode steps: 1066, steps per second:   1, episode reward: 410.000, mean reward:  0.385 [ 0.000, 200.000], mean action: 2.498 [0.000, 5.000],  loss: 11.893722, mean_q: 3.931121, mean_eps: 0.879805\n",
      " 2269/10000: episode: 3, duration: 1780.524s, episode steps: 598, steps per second:   0, episode reward: 120.000, mean reward:  0.201 [ 0.000, 30.000], mean action: 2.411 [0.000, 5.000],  loss: 1.314655, mean_q: 3.874373, mean_eps: 0.822745\n",
      " 2898/10000: episode: 4, duration: 1923.912s, episode steps: 629, steps per second:   0, episode reward: 90.000, mean reward:  0.143 [ 0.000, 30.000], mean action: 2.603 [0.000, 5.000],  loss: 0.865693, mean_q: 2.314277, mean_eps: 0.767530\n",
      " 3310/10000: episode: 5, duration: 1266.908s, episode steps: 412, steps per second:   0, episode reward: 45.000, mean reward:  0.109 [ 0.000, 15.000], mean action: 2.551 [0.000, 5.000],  loss: 0.586012, mean_q: 2.451395, mean_eps: 0.720685\n",
      " 3915/10000: episode: 6, duration: 1745.513s, episode steps: 605, steps per second:   0, episode reward: 65.000, mean reward:  0.107 [ 0.000, 20.000], mean action: 2.336 [0.000, 5.000],  loss: 0.353121, mean_q: 1.614010, mean_eps: 0.674920\n",
      " 4420/10000: episode: 7, duration: 2155.369s, episode steps: 505, steps per second:   0, episode reward: 130.000, mean reward:  0.257 [ 0.000, 30.000], mean action: 2.503 [0.000, 5.000],  loss: 0.751872, mean_q: 1.002804, mean_eps: 0.624970\n"
     ]
    },
    {
     "ename": "AbortedError",
     "evalue": "Operation received an exception:Status: 1, message: could not execute a primitive, in file tensorflow/core/kernels/mkl/mkl_matmul_op_fused.cc:260\n\t [[{{node dense_7_1/Relu}}]]",
     "output_type": "error",
     "traceback": [
      "\u001b[1;31m---------------------------------------------------------------------------\u001b[0m",
      "\u001b[1;31mAbortedError\u001b[0m                              Traceback (most recent call last)",
      "\u001b[1;32md:\\cours1\\project2\\agent02.ipynb Cell 17'\u001b[0m in \u001b[0;36m<cell line: 4>\u001b[1;34m()\u001b[0m\n\u001b[0;32m      <a href='vscode-notebook-cell:/d%3A/cours1/project2/agent02.ipynb#ch0000018?line=1'>2</a>\u001b[0m dqn \u001b[39m=\u001b[39m build_agent(model, actions)\n\u001b[0;32m      <a href='vscode-notebook-cell:/d%3A/cours1/project2/agent02.ipynb#ch0000018?line=2'>3</a>\u001b[0m dqn\u001b[39m.\u001b[39mcompile(Adam(learning_rate\u001b[39m=\u001b[39m\u001b[39m1e-4\u001b[39m))\n\u001b[1;32m----> <a href='vscode-notebook-cell:/d%3A/cours1/project2/agent02.ipynb#ch0000018?line=3'>4</a>\u001b[0m dqn\u001b[39m.\u001b[39;49mfit(env, nb_steps\u001b[39m=\u001b[39;49m\u001b[39m10000\u001b[39;49m, visualize\u001b[39m=\u001b[39;49m\u001b[39mFalse\u001b[39;49;00m, verbose\u001b[39m=\u001b[39;49m\u001b[39m2\u001b[39;49m)\n",
      "File \u001b[1;32m~\\anaconda3\\envs\\gym\\lib\\site-packages\\rl\\core.py:193\u001b[0m, in \u001b[0;36mAgent.fit\u001b[1;34m(self, env, nb_steps, action_repetition, callbacks, verbose, visualize, nb_max_start_steps, start_step_policy, log_interval, nb_max_episode_steps)\u001b[0m\n\u001b[0;32m    <a href='file:///c%3A/Users/AbdelfataH/anaconda3/envs/gym/lib/site-packages/rl/core.py?line=189'>190</a>\u001b[0m \u001b[39mif\u001b[39;00m nb_max_episode_steps \u001b[39mand\u001b[39;00m episode_step \u001b[39m>\u001b[39m\u001b[39m=\u001b[39m nb_max_episode_steps \u001b[39m-\u001b[39m \u001b[39m1\u001b[39m:\n\u001b[0;32m    <a href='file:///c%3A/Users/AbdelfataH/anaconda3/envs/gym/lib/site-packages/rl/core.py?line=190'>191</a>\u001b[0m     \u001b[39m# Force a terminal state.\u001b[39;00m\n\u001b[0;32m    <a href='file:///c%3A/Users/AbdelfataH/anaconda3/envs/gym/lib/site-packages/rl/core.py?line=191'>192</a>\u001b[0m     done \u001b[39m=\u001b[39m \u001b[39mTrue\u001b[39;00m\n\u001b[1;32m--> <a href='file:///c%3A/Users/AbdelfataH/anaconda3/envs/gym/lib/site-packages/rl/core.py?line=192'>193</a>\u001b[0m metrics \u001b[39m=\u001b[39m \u001b[39mself\u001b[39;49m\u001b[39m.\u001b[39;49mbackward(reward, terminal\u001b[39m=\u001b[39;49mdone)\n\u001b[0;32m    <a href='file:///c%3A/Users/AbdelfataH/anaconda3/envs/gym/lib/site-packages/rl/core.py?line=193'>194</a>\u001b[0m episode_reward \u001b[39m+\u001b[39m\u001b[39m=\u001b[39m reward\n\u001b[0;32m    <a href='file:///c%3A/Users/AbdelfataH/anaconda3/envs/gym/lib/site-packages/rl/core.py?line=195'>196</a>\u001b[0m step_logs \u001b[39m=\u001b[39m {\n\u001b[0;32m    <a href='file:///c%3A/Users/AbdelfataH/anaconda3/envs/gym/lib/site-packages/rl/core.py?line=196'>197</a>\u001b[0m     \u001b[39m'\u001b[39m\u001b[39maction\u001b[39m\u001b[39m'\u001b[39m: action,\n\u001b[0;32m    <a href='file:///c%3A/Users/AbdelfataH/anaconda3/envs/gym/lib/site-packages/rl/core.py?line=197'>198</a>\u001b[0m     \u001b[39m'\u001b[39m\u001b[39mobservation\u001b[39m\u001b[39m'\u001b[39m: observation,\n\u001b[1;32m   (...)\u001b[0m\n\u001b[0;32m    <a href='file:///c%3A/Users/AbdelfataH/anaconda3/envs/gym/lib/site-packages/rl/core.py?line=201'>202</a>\u001b[0m     \u001b[39m'\u001b[39m\u001b[39minfo\u001b[39m\u001b[39m'\u001b[39m: accumulated_info,\n\u001b[0;32m    <a href='file:///c%3A/Users/AbdelfataH/anaconda3/envs/gym/lib/site-packages/rl/core.py?line=202'>203</a>\u001b[0m }\n",
      "File \u001b[1;32m~\\anaconda3\\envs\\gym\\lib\\site-packages\\rl\\agents\\dqn.py:294\u001b[0m, in \u001b[0;36mDQNAgent.backward\u001b[1;34m(self, reward, terminal)\u001b[0m\n\u001b[0;32m    <a href='file:///c%3A/Users/AbdelfataH/anaconda3/envs/gym/lib/site-packages/rl/agents/dqn.py?line=288'>289</a>\u001b[0m     q_batch \u001b[39m=\u001b[39m target_q_values[\u001b[39mrange\u001b[39m(\u001b[39mself\u001b[39m\u001b[39m.\u001b[39mbatch_size), actions]\n\u001b[0;32m    <a href='file:///c%3A/Users/AbdelfataH/anaconda3/envs/gym/lib/site-packages/rl/agents/dqn.py?line=289'>290</a>\u001b[0m \u001b[39melse\u001b[39;00m:\n\u001b[0;32m    <a href='file:///c%3A/Users/AbdelfataH/anaconda3/envs/gym/lib/site-packages/rl/agents/dqn.py?line=290'>291</a>\u001b[0m     \u001b[39m# Compute the q_values given state1, and extract the maximum for each sample in the batch.\u001b[39;00m\n\u001b[0;32m    <a href='file:///c%3A/Users/AbdelfataH/anaconda3/envs/gym/lib/site-packages/rl/agents/dqn.py?line=291'>292</a>\u001b[0m     \u001b[39m# We perform this prediction on the target_model instead of the model for reasons\u001b[39;00m\n\u001b[0;32m    <a href='file:///c%3A/Users/AbdelfataH/anaconda3/envs/gym/lib/site-packages/rl/agents/dqn.py?line=292'>293</a>\u001b[0m     \u001b[39m# outlined in Mnih (2015). In short: it makes the algorithm more stable.\u001b[39;00m\n\u001b[1;32m--> <a href='file:///c%3A/Users/AbdelfataH/anaconda3/envs/gym/lib/site-packages/rl/agents/dqn.py?line=293'>294</a>\u001b[0m     target_q_values \u001b[39m=\u001b[39m \u001b[39mself\u001b[39;49m\u001b[39m.\u001b[39;49mtarget_model\u001b[39m.\u001b[39;49mpredict_on_batch(state1_batch)\n\u001b[0;32m    <a href='file:///c%3A/Users/AbdelfataH/anaconda3/envs/gym/lib/site-packages/rl/agents/dqn.py?line=294'>295</a>\u001b[0m     \u001b[39massert\u001b[39;00m target_q_values\u001b[39m.\u001b[39mshape \u001b[39m==\u001b[39m (\u001b[39mself\u001b[39m\u001b[39m.\u001b[39mbatch_size, \u001b[39mself\u001b[39m\u001b[39m.\u001b[39mnb_actions)\n\u001b[0;32m    <a href='file:///c%3A/Users/AbdelfataH/anaconda3/envs/gym/lib/site-packages/rl/agents/dqn.py?line=295'>296</a>\u001b[0m     q_batch \u001b[39m=\u001b[39m np\u001b[39m.\u001b[39mmax(target_q_values, axis\u001b[39m=\u001b[39m\u001b[39m1\u001b[39m)\u001b[39m.\u001b[39mflatten()\n",
      "File \u001b[1;32m~\\anaconda3\\envs\\gym\\lib\\site-packages\\keras\\engine\\training_v1.py:1201\u001b[0m, in \u001b[0;36mModel.predict_on_batch\u001b[1;34m(self, x)\u001b[0m\n\u001b[0;32m   <a href='file:///c%3A/Users/AbdelfataH/anaconda3/envs/gym/lib/site-packages/keras/engine/training_v1.py?line=1197'>1198</a>\u001b[0m   \u001b[39mreturn\u001b[39;00m \u001b[39mself\u001b[39m(inputs)  \u001b[39m# pylint: disable=not-callable\u001b[39;00m\n\u001b[0;32m   <a href='file:///c%3A/Users/AbdelfataH/anaconda3/envs/gym/lib/site-packages/keras/engine/training_v1.py?line=1199'>1200</a>\u001b[0m \u001b[39mself\u001b[39m\u001b[39m.\u001b[39m_make_predict_function()\n\u001b[1;32m-> <a href='file:///c%3A/Users/AbdelfataH/anaconda3/envs/gym/lib/site-packages/keras/engine/training_v1.py?line=1200'>1201</a>\u001b[0m outputs \u001b[39m=\u001b[39m \u001b[39mself\u001b[39;49m\u001b[39m.\u001b[39;49mpredict_function(inputs)\n\u001b[0;32m   <a href='file:///c%3A/Users/AbdelfataH/anaconda3/envs/gym/lib/site-packages/keras/engine/training_v1.py?line=1202'>1203</a>\u001b[0m \u001b[39mif\u001b[39;00m \u001b[39mlen\u001b[39m(outputs) \u001b[39m==\u001b[39m \u001b[39m1\u001b[39m:\n\u001b[0;32m   <a href='file:///c%3A/Users/AbdelfataH/anaconda3/envs/gym/lib/site-packages/keras/engine/training_v1.py?line=1203'>1204</a>\u001b[0m   \u001b[39mreturn\u001b[39;00m outputs[\u001b[39m0\u001b[39m]\n",
      "File \u001b[1;32m~\\anaconda3\\envs\\gym\\lib\\site-packages\\keras\\backend.py:4031\u001b[0m, in \u001b[0;36mGraphExecutionFunction.__call__\u001b[1;34m(self, inputs)\u001b[0m\n\u001b[0;32m   <a href='file:///c%3A/Users/AbdelfataH/anaconda3/envs/gym/lib/site-packages/keras/backend.py?line=4024'>4025</a>\u001b[0m \u001b[39mif\u001b[39;00m (\u001b[39mself\u001b[39m\u001b[39m.\u001b[39m_callable_fn \u001b[39mis\u001b[39;00m \u001b[39mNone\u001b[39;00m \u001b[39mor\u001b[39;00m feed_arrays \u001b[39m!=\u001b[39m \u001b[39mself\u001b[39m\u001b[39m.\u001b[39m_feed_arrays \u001b[39mor\u001b[39;00m\n\u001b[0;32m   <a href='file:///c%3A/Users/AbdelfataH/anaconda3/envs/gym/lib/site-packages/keras/backend.py?line=4025'>4026</a>\u001b[0m     symbol_vals \u001b[39m!=\u001b[39m \u001b[39mself\u001b[39m\u001b[39m.\u001b[39m_symbol_vals \u001b[39mor\u001b[39;00m\n\u001b[0;32m   <a href='file:///c%3A/Users/AbdelfataH/anaconda3/envs/gym/lib/site-packages/keras/backend.py?line=4026'>4027</a>\u001b[0m     feed_symbols \u001b[39m!=\u001b[39m \u001b[39mself\u001b[39m\u001b[39m.\u001b[39m_feed_symbols \u001b[39mor\u001b[39;00m \u001b[39mself\u001b[39m\u001b[39m.\u001b[39mfetches \u001b[39m!=\u001b[39m \u001b[39mself\u001b[39m\u001b[39m.\u001b[39m_fetches \u001b[39mor\u001b[39;00m\n\u001b[0;32m   <a href='file:///c%3A/Users/AbdelfataH/anaconda3/envs/gym/lib/site-packages/keras/backend.py?line=4027'>4028</a>\u001b[0m     session \u001b[39m!=\u001b[39m \u001b[39mself\u001b[39m\u001b[39m.\u001b[39m_session):\n\u001b[0;32m   <a href='file:///c%3A/Users/AbdelfataH/anaconda3/envs/gym/lib/site-packages/keras/backend.py?line=4028'>4029</a>\u001b[0m   \u001b[39mself\u001b[39m\u001b[39m.\u001b[39m_make_callable(feed_arrays, feed_symbols, symbol_vals, session)\n\u001b[1;32m-> <a href='file:///c%3A/Users/AbdelfataH/anaconda3/envs/gym/lib/site-packages/keras/backend.py?line=4030'>4031</a>\u001b[0m fetched \u001b[39m=\u001b[39m \u001b[39mself\u001b[39;49m\u001b[39m.\u001b[39;49m_callable_fn(\u001b[39m*\u001b[39;49marray_vals,\n\u001b[0;32m   <a href='file:///c%3A/Users/AbdelfataH/anaconda3/envs/gym/lib/site-packages/keras/backend.py?line=4031'>4032</a>\u001b[0m                             run_metadata\u001b[39m=\u001b[39;49m\u001b[39mself\u001b[39;49m\u001b[39m.\u001b[39;49mrun_metadata)\n\u001b[0;32m   <a href='file:///c%3A/Users/AbdelfataH/anaconda3/envs/gym/lib/site-packages/keras/backend.py?line=4032'>4033</a>\u001b[0m \u001b[39mself\u001b[39m\u001b[39m.\u001b[39m_call_fetch_callbacks(fetched[\u001b[39m-\u001b[39m\u001b[39mlen\u001b[39m(\u001b[39mself\u001b[39m\u001b[39m.\u001b[39m_fetches):])\n\u001b[0;32m   <a href='file:///c%3A/Users/AbdelfataH/anaconda3/envs/gym/lib/site-packages/keras/backend.py?line=4033'>4034</a>\u001b[0m output_structure \u001b[39m=\u001b[39m tf\u001b[39m.\u001b[39mnest\u001b[39m.\u001b[39mpack_sequence_as(\n\u001b[0;32m   <a href='file:///c%3A/Users/AbdelfataH/anaconda3/envs/gym/lib/site-packages/keras/backend.py?line=4034'>4035</a>\u001b[0m     \u001b[39mself\u001b[39m\u001b[39m.\u001b[39m_outputs_structure,\n\u001b[0;32m   <a href='file:///c%3A/Users/AbdelfataH/anaconda3/envs/gym/lib/site-packages/keras/backend.py?line=4035'>4036</a>\u001b[0m     fetched[:\u001b[39mlen\u001b[39m(\u001b[39mself\u001b[39m\u001b[39m.\u001b[39moutputs)],\n\u001b[0;32m   <a href='file:///c%3A/Users/AbdelfataH/anaconda3/envs/gym/lib/site-packages/keras/backend.py?line=4036'>4037</a>\u001b[0m     expand_composites\u001b[39m=\u001b[39m\u001b[39mTrue\u001b[39;00m)\n",
      "File \u001b[1;32m~\\anaconda3\\envs\\gym\\lib\\site-packages\\tensorflow\\python\\client\\session.py:1478\u001b[0m, in \u001b[0;36mBaseSession._Callable.__call__\u001b[1;34m(self, *args, **kwargs)\u001b[0m\n\u001b[0;32m   <a href='file:///c%3A/Users/AbdelfataH/anaconda3/envs/gym/lib/site-packages/tensorflow/python/client/session.py?line=1475'>1476</a>\u001b[0m \u001b[39mtry\u001b[39;00m:\n\u001b[0;32m   <a href='file:///c%3A/Users/AbdelfataH/anaconda3/envs/gym/lib/site-packages/tensorflow/python/client/session.py?line=1476'>1477</a>\u001b[0m   run_metadata_ptr \u001b[39m=\u001b[39m tf_session\u001b[39m.\u001b[39mTF_NewBuffer() \u001b[39mif\u001b[39;00m run_metadata \u001b[39melse\u001b[39;00m \u001b[39mNone\u001b[39;00m\n\u001b[1;32m-> <a href='file:///c%3A/Users/AbdelfataH/anaconda3/envs/gym/lib/site-packages/tensorflow/python/client/session.py?line=1477'>1478</a>\u001b[0m   ret \u001b[39m=\u001b[39m tf_session\u001b[39m.\u001b[39;49mTF_SessionRunCallable(\u001b[39mself\u001b[39;49m\u001b[39m.\u001b[39;49m_session\u001b[39m.\u001b[39;49m_session,\n\u001b[0;32m   <a href='file:///c%3A/Users/AbdelfataH/anaconda3/envs/gym/lib/site-packages/tensorflow/python/client/session.py?line=1478'>1479</a>\u001b[0m                                          \u001b[39mself\u001b[39;49m\u001b[39m.\u001b[39;49m_handle, args,\n\u001b[0;32m   <a href='file:///c%3A/Users/AbdelfataH/anaconda3/envs/gym/lib/site-packages/tensorflow/python/client/session.py?line=1479'>1480</a>\u001b[0m                                          run_metadata_ptr)\n\u001b[0;32m   <a href='file:///c%3A/Users/AbdelfataH/anaconda3/envs/gym/lib/site-packages/tensorflow/python/client/session.py?line=1480'>1481</a>\u001b[0m   \u001b[39mif\u001b[39;00m run_metadata:\n\u001b[0;32m   <a href='file:///c%3A/Users/AbdelfataH/anaconda3/envs/gym/lib/site-packages/tensorflow/python/client/session.py?line=1481'>1482</a>\u001b[0m     proto_data \u001b[39m=\u001b[39m tf_session\u001b[39m.\u001b[39mTF_GetBuffer(run_metadata_ptr)\n",
      "\u001b[1;31mAbortedError\u001b[0m: Operation received an exception:Status: 1, message: could not execute a primitive, in file tensorflow/core/kernels/mkl/mkl_matmul_op_fused.cc:260\n\t [[{{node dense_7_1/Relu}}]]"
     ]
    }
   ],
   "source": [
    "model = build_model(height, width, channels, actions)\n",
    "dqn = build_agent(model, actions)\n",
    "dqn.compile(Adam(learning_rate=1e-4))\n",
    "dqn.fit(env, nb_steps=10000, visualize=False, verbose=2)"
   ]
  },
  {
   "cell_type": "markdown",
   "metadata": {},
   "source": [
    "Reloading Agent from Memory"
   ]
  }
 ],
 "metadata": {
  "interpreter": {
   "hash": "e922dd073470bdcc017ae3abd31d6491d6ed7bf31c1d559806e5511bfea88b81"
  },
  "kernelspec": {
   "display_name": "Python 3.9.0 64-bit",
   "language": "python",
   "name": "python3"
  },
  "language_info": {
   "codemirror_mode": {
    "name": "ipython",
    "version": 3
   },
   "file_extension": ".py",
   "mimetype": "text/x-python",
   "name": "python",
   "nbconvert_exporter": "python",
   "pygments_lexer": "ipython3",
   "version": "3.9.12"
  },
  "orig_nbformat": 4
 },
 "nbformat": 4,
 "nbformat_minor": 2
}
